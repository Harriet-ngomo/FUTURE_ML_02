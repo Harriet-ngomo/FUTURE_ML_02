{
 "cells": [
  {
   "cell_type": "markdown",
   "id": "198c1894",
   "metadata": {},
   "source": [
    "#  TELCOVISION ANALYTICS   \n",
    "## Customer Churn Prediction Project\n",
    "\n",
    "\n",
    "## Project Overview\n",
    "\n",
    "At **TelcoVision Analytics**, our mission is to help telecom companies use data-driven strategies to keep their customers happy and reduce the chances of them leaving\n",
    "\n",
    "In today's competitive telecom market, **customer churn** (when people cancel their subscriptions or switch to other providers) can seriously hurt a company's revenue and growth. Bringing in new customers can cost **5 to 7 times more** than simply keeping existing ones satisfied\n",
    "\n",
    "Right now, many companies deal with churn **reactively**, only after customers have already left. **TelcoVision Analytics** wants to change that by using **machine learning** to predict churn before it happens, allowing businesses to step in early with **personalized offers, better support and improved customer experiences**\n",
    "\n",
    "\n",
    "\n",
    "##  Business Problem\n",
    "\n",
    "Telecom providers often lack the ability to accurately identify customers at risk of leaving and this leads to:\n",
    "\n",
    "- Inefficient marketing spending on blanket retention campaigns  \n",
    "- Missed opportunities to retain valuable customers  \n",
    "- Declining revenue and customer lifetime value\n",
    "\n",
    "**Key Challenge:**  \n",
    "How can we leverage customer demographic, billing and service usage data to accurately predict churn and proactively reduce customer attrition?\n",
    "\n",
    "---\n",
    "\n",
    "## Stakeholders\n",
    "\n",
    "| Stakeholder         | Role / Interest                                                             |\n",
    "|----------------------|------------------------------------------------------------------------------|\n",
    "| Marketing Teams      | Use churn predictions to target high risk customers with personalized offers |\n",
    "| Customer Service     | Engage with at risk customers to resolve issues early                        |\n",
    "| Senior Management    | Make strategic business decisions to reduce churn and increase revenue       |\n",
    "| Data Science Team    | Build and maintain churn prediction models                                   |\n",
    "| Customers             | Benefit from improved service, offers and satisfaction                      |\n",
    "\n",
    "\n",
    "\n",
    "## Business Objectives\n",
    "\n",
    "- How can we improve customer retention by identifying and intervening on high risk customers?  \n",
    "- How can we build a predictive model to classify customers as churn or non churn?  \n",
    "- How can we uncover the most important factors influencing churn behavior to guide business strategy?\n",
    "\n",
    "\n",
    "\n",
    "## Analysis Objectives\n",
    "\n",
    "- Build and evaluate a machine learning classification model to predict customer churn  \n",
    "- Start with **Logistic Regression as a baseline model** then experiment with other models (Decision Trees, Random Forest, Gradient Boosting, XGBoost) to find the best performing one  \n",
    "- Identify which customer attributes like tenure, monthly charges and contract type are most predictive of churn  \n",
    "- Assess how well our models distinguish between customers likely to churn and those likely to stay\n",
    "\n",
    "---\n",
    "\n",
    "## Data Understanding\n",
    "\n",
    "We will use the **Telco Customer Churn Dataset** from Kaggle to build our prediction model\n",
    "**Dataset Overview**\n",
    "- Number of records: 7043 customers  \n",
    "- Number of columns: 21 features  \n",
    "\n",
    "**Dataset Columns**\n",
    "\n",
    "| Column Name         | Description                                                 | Data Type                |\n",
    "|----------------------|-------------------------------------------------------------|------------------------------|\n",
    "| customerID            | Unique identifier for each customer                         | Categorical (ID)              |\n",
    "| gender                 | Gender of the customer                                      | Categorical                    |\n",
    "| SeniorCitizen          | Indicates if the customer is a senior citizen (1/0)         | Numeric (Binary)               |\n",
    "| Partner                 | Whether the customer has a partner                          | Categorical                    |\n",
    "| Dependents              | Whether the customer has dependents                         | Categorical                    |\n",
    "| tenure                   | Number of months the customer has stayed                    | Numeric (Discrete)              |\n",
    "| PhoneService             | Whether the customer has phone service                       | Categorical                    |\n",
    "| MultipleLines             | Whether the customer has multiple phone lines                | Categorical                    |\n",
    "| InternetService             | Type of internet service (DSL, Fiber optic, None)            | Categorical                    |\n",
    "| OnlineSecurity               | Whether the customer has online security service               | Categorical                    |\n",
    "| OnlineBackup                  | Whether the customer has online backup service                  | Categorical                    |\n",
    "| DeviceProtection               | Whether the customer has device protection service               | Categorical                    |\n",
    "| TechSupport                      | Whether the customer has tech support service                       | Categorical                    |\n",
    "| StreamingTV                          | Whether the customer has streaming TV service                          | Categorical                    |\n",
    "| StreamingMovies                           | Whether the customer has streaming movies service                           | Categorical                    |\n",
    "| Contract                                     | Type of contract (Month-to-month, One year, Two year)                           | Categorical                    |\n",
    "| PaperlessBilling                                     | Whether the customer uses paperless billing                                     | Categorical                    |\n",
    "| PaymentMethod                                          | Customer’s payment method                                                      | Categorical                    |\n",
    "| MonthlyCharges                                             | Amount charged monthly                                                           | Numeric (Continuous)             |\n",
    "| TotalCharges                                                  | Total amount billed                                                              | Numeric (Continuous)             |\n",
    "| Churn                                                               | Target variable: Whether the customer left                                       | Categorical (Target)              |\n",
    "\n",
    "\n",
    "\n",
    "##  Data Source\n",
    "\n",
    "**Dataset Name:** Telco Customer Churn  \n",
    "**Source:** Kaggle – *blastchar/telco-customer-churn*  \n",
    "[Link to dataset](https://www.kaggle.com/datasets/blastchar/telco-customer-churn)\n",
    "\n",
    "\n",
    "\n",
    "## Prediction Target\n",
    "\n",
    "We aim to predict the `Churn` variable which indicates whether a customer has stopped using the service (`Yes`) or is still active (`No`)  \n",
    "This is a **binary classification problem**\n",
    "\n",
    "\n"
   ]
  },
  {
   "cell_type": "markdown",
   "id": "7a7a625c",
   "metadata": {},
   "source": [
    "# **Import modules & packages**"
   ]
  },
  {
   "cell_type": "code",
   "execution_count": 1,
   "id": "371c3807",
   "metadata": {},
   "outputs": [],
   "source": [
    "# pip uninstall seaborn matplotlib -y\n"
   ]
  },
  {
   "cell_type": "code",
   "execution_count": 2,
   "id": "7fc1ca22",
   "metadata": {},
   "outputs": [],
   "source": [
    "# pip install seaborn matplotlib --upgrade --force-reinstall\n"
   ]
  },
  {
   "cell_type": "code",
   "execution_count": 3,
   "id": "96b0d1f3",
   "metadata": {},
   "outputs": [],
   "source": [
    "\n",
    "# Ignore Warnings\n",
    "import warnings\n",
    "warnings.filterwarnings(\"ignore\")\n",
    "\n",
    "# Data Manipulation\n",
    "import pandas as pd\n",
    "import numpy as np\n",
    "\n",
    "# Data Visualization\n",
    "import seaborn as sns\n",
    "import matplotlib.pyplot as plt\n",
    "%matplotlib inline\n",
    "\n",
    "# Preprocessing\n",
    "from sklearn.preprocessing import StandardScaler, OneHotEncoder\n",
    "from sklearn.compose import ColumnTransformer\n",
    "\n",
    "# Sampling for Imbalance\n",
    "from imblearn.over_sampling import SMOTE\n",
    "from imblearn.pipeline import Pipeline\n",
    "\n",
    "# Modeling Algorithms\n",
    "from sklearn.linear_model import LogisticRegression\n",
    "from sklearn.tree import DecisionTreeClassifier\n",
    "from sklearn.ensemble import RandomForestClassifier, GradientBoostingClassifier\n",
    "from xgboost import XGBClassifier\n",
    "\n",
    "# Model Selection\n",
    "from sklearn.model_selection import train_test_split, GridSearchCV, RandomizedSearchCV\n",
    "\n",
    "# Evaluation Metrics\n",
    "from sklearn.metrics import (\n",
    "                            classification_report,\n",
    "                            confusion_matrix,\n",
    "                            roc_auc_score,\n",
    "                            roc_curve,accuracy_score,\n",
    "                            ConfusionMatrixDisplay)\n",
    "\n",
    "# Reproducibility\n",
    "RANDOM_STATE = 42\n"
   ]
  },
  {
   "cell_type": "markdown",
   "id": "ffc223df",
   "metadata": {},
   "source": [
    "# Load Dataset"
   ]
  },
  {
   "cell_type": "code",
   "execution_count": 4,
   "id": "c634255d",
   "metadata": {},
   "outputs": [
    {
     "data": {
      "text/html": [
       "<div>\n",
       "<style scoped>\n",
       "    .dataframe tbody tr th:only-of-type {\n",
       "        vertical-align: middle;\n",
       "    }\n",
       "\n",
       "    .dataframe tbody tr th {\n",
       "        vertical-align: top;\n",
       "    }\n",
       "\n",
       "    .dataframe thead th {\n",
       "        text-align: right;\n",
       "    }\n",
       "</style>\n",
       "<table border=\"1\" class=\"dataframe\">\n",
       "  <thead>\n",
       "    <tr style=\"text-align: right;\">\n",
       "      <th></th>\n",
       "      <th>customerID</th>\n",
       "      <th>gender</th>\n",
       "      <th>SeniorCitizen</th>\n",
       "      <th>Partner</th>\n",
       "      <th>Dependents</th>\n",
       "      <th>tenure</th>\n",
       "      <th>PhoneService</th>\n",
       "      <th>MultipleLines</th>\n",
       "      <th>InternetService</th>\n",
       "      <th>OnlineSecurity</th>\n",
       "      <th>...</th>\n",
       "      <th>DeviceProtection</th>\n",
       "      <th>TechSupport</th>\n",
       "      <th>StreamingTV</th>\n",
       "      <th>StreamingMovies</th>\n",
       "      <th>Contract</th>\n",
       "      <th>PaperlessBilling</th>\n",
       "      <th>PaymentMethod</th>\n",
       "      <th>MonthlyCharges</th>\n",
       "      <th>TotalCharges</th>\n",
       "      <th>Churn</th>\n",
       "    </tr>\n",
       "  </thead>\n",
       "  <tbody>\n",
       "    <tr>\n",
       "      <th>0</th>\n",
       "      <td>7590-VHVEG</td>\n",
       "      <td>Female</td>\n",
       "      <td>0</td>\n",
       "      <td>Yes</td>\n",
       "      <td>No</td>\n",
       "      <td>1</td>\n",
       "      <td>No</td>\n",
       "      <td>No phone service</td>\n",
       "      <td>DSL</td>\n",
       "      <td>No</td>\n",
       "      <td>...</td>\n",
       "      <td>No</td>\n",
       "      <td>No</td>\n",
       "      <td>No</td>\n",
       "      <td>No</td>\n",
       "      <td>Month-to-month</td>\n",
       "      <td>Yes</td>\n",
       "      <td>Electronic check</td>\n",
       "      <td>29.85</td>\n",
       "      <td>29.85</td>\n",
       "      <td>No</td>\n",
       "    </tr>\n",
       "    <tr>\n",
       "      <th>1</th>\n",
       "      <td>5575-GNVDE</td>\n",
       "      <td>Male</td>\n",
       "      <td>0</td>\n",
       "      <td>No</td>\n",
       "      <td>No</td>\n",
       "      <td>34</td>\n",
       "      <td>Yes</td>\n",
       "      <td>No</td>\n",
       "      <td>DSL</td>\n",
       "      <td>Yes</td>\n",
       "      <td>...</td>\n",
       "      <td>Yes</td>\n",
       "      <td>No</td>\n",
       "      <td>No</td>\n",
       "      <td>No</td>\n",
       "      <td>One year</td>\n",
       "      <td>No</td>\n",
       "      <td>Mailed check</td>\n",
       "      <td>56.95</td>\n",
       "      <td>1889.5</td>\n",
       "      <td>No</td>\n",
       "    </tr>\n",
       "    <tr>\n",
       "      <th>2</th>\n",
       "      <td>3668-QPYBK</td>\n",
       "      <td>Male</td>\n",
       "      <td>0</td>\n",
       "      <td>No</td>\n",
       "      <td>No</td>\n",
       "      <td>2</td>\n",
       "      <td>Yes</td>\n",
       "      <td>No</td>\n",
       "      <td>DSL</td>\n",
       "      <td>Yes</td>\n",
       "      <td>...</td>\n",
       "      <td>No</td>\n",
       "      <td>No</td>\n",
       "      <td>No</td>\n",
       "      <td>No</td>\n",
       "      <td>Month-to-month</td>\n",
       "      <td>Yes</td>\n",
       "      <td>Mailed check</td>\n",
       "      <td>53.85</td>\n",
       "      <td>108.15</td>\n",
       "      <td>Yes</td>\n",
       "    </tr>\n",
       "    <tr>\n",
       "      <th>3</th>\n",
       "      <td>7795-CFOCW</td>\n",
       "      <td>Male</td>\n",
       "      <td>0</td>\n",
       "      <td>No</td>\n",
       "      <td>No</td>\n",
       "      <td>45</td>\n",
       "      <td>No</td>\n",
       "      <td>No phone service</td>\n",
       "      <td>DSL</td>\n",
       "      <td>Yes</td>\n",
       "      <td>...</td>\n",
       "      <td>Yes</td>\n",
       "      <td>Yes</td>\n",
       "      <td>No</td>\n",
       "      <td>No</td>\n",
       "      <td>One year</td>\n",
       "      <td>No</td>\n",
       "      <td>Bank transfer (automatic)</td>\n",
       "      <td>42.30</td>\n",
       "      <td>1840.75</td>\n",
       "      <td>No</td>\n",
       "    </tr>\n",
       "    <tr>\n",
       "      <th>4</th>\n",
       "      <td>9237-HQITU</td>\n",
       "      <td>Female</td>\n",
       "      <td>0</td>\n",
       "      <td>No</td>\n",
       "      <td>No</td>\n",
       "      <td>2</td>\n",
       "      <td>Yes</td>\n",
       "      <td>No</td>\n",
       "      <td>Fiber optic</td>\n",
       "      <td>No</td>\n",
       "      <td>...</td>\n",
       "      <td>No</td>\n",
       "      <td>No</td>\n",
       "      <td>No</td>\n",
       "      <td>No</td>\n",
       "      <td>Month-to-month</td>\n",
       "      <td>Yes</td>\n",
       "      <td>Electronic check</td>\n",
       "      <td>70.70</td>\n",
       "      <td>151.65</td>\n",
       "      <td>Yes</td>\n",
       "    </tr>\n",
       "  </tbody>\n",
       "</table>\n",
       "<p>5 rows × 21 columns</p>\n",
       "</div>"
      ],
      "text/plain": [
       "   customerID  gender  SeniorCitizen Partner Dependents  tenure PhoneService  \\\n",
       "0  7590-VHVEG  Female              0     Yes         No       1           No   \n",
       "1  5575-GNVDE    Male              0      No         No      34          Yes   \n",
       "2  3668-QPYBK    Male              0      No         No       2          Yes   \n",
       "3  7795-CFOCW    Male              0      No         No      45           No   \n",
       "4  9237-HQITU  Female              0      No         No       2          Yes   \n",
       "\n",
       "      MultipleLines InternetService OnlineSecurity  ... DeviceProtection  \\\n",
       "0  No phone service             DSL             No  ...               No   \n",
       "1                No             DSL            Yes  ...              Yes   \n",
       "2                No             DSL            Yes  ...               No   \n",
       "3  No phone service             DSL            Yes  ...              Yes   \n",
       "4                No     Fiber optic             No  ...               No   \n",
       "\n",
       "  TechSupport StreamingTV StreamingMovies        Contract PaperlessBilling  \\\n",
       "0          No          No              No  Month-to-month              Yes   \n",
       "1          No          No              No        One year               No   \n",
       "2          No          No              No  Month-to-month              Yes   \n",
       "3         Yes          No              No        One year               No   \n",
       "4          No          No              No  Month-to-month              Yes   \n",
       "\n",
       "               PaymentMethod MonthlyCharges  TotalCharges Churn  \n",
       "0           Electronic check          29.85         29.85    No  \n",
       "1               Mailed check          56.95        1889.5    No  \n",
       "2               Mailed check          53.85        108.15   Yes  \n",
       "3  Bank transfer (automatic)          42.30       1840.75    No  \n",
       "4           Electronic check          70.70        151.65   Yes  \n",
       "\n",
       "[5 rows x 21 columns]"
      ]
     },
     "execution_count": 4,
     "metadata": {},
     "output_type": "execute_result"
    }
   ],
   "source": [
    "df = pd.read_csv(\"Data/WA_Fn-UseC_-Telco-Customer-Churn.csv\")\n",
    "df.head()"
   ]
  },
  {
   "cell_type": "markdown",
   "id": "110dbfb2-c5ce-4e24-8bbf-fdb5185446d4",
   "metadata": {},
   "source": [
    "# **DATA UNDERSTANDING**"
   ]
  },
  {
   "cell_type": "markdown",
   "id": "9a0d4a14",
   "metadata": {},
   "source": [
    "# Column Value Count"
   ]
  },
  {
   "cell_type": "code",
   "execution_count": 5,
   "id": "c560b764",
   "metadata": {},
   "outputs": [
    {
     "name": "stdout",
     "output_type": "stream",
     "text": [
      "\n",
      "Column: customerID\n",
      "customerID\n",
      "7590-VHVEG    1\n",
      "3791-LGQCY    1\n",
      "6008-NAIXK    1\n",
      "5956-YHHRX    1\n",
      "5365-LLFYV    1\n",
      "5855-EIBDE    1\n",
      "8166-ZZTFS    1\n",
      "0129-KPTWJ    1\n",
      "9128-CPXKI    1\n",
      "9509-MPYOD    1\n",
      "Name: count, dtype: int64\n",
      "\n",
      "Column: gender\n",
      "gender\n",
      "Male      3555\n",
      "Female    3488\n",
      "Name: count, dtype: int64\n",
      "\n",
      "Column: SeniorCitizen\n",
      "SeniorCitizen\n",
      "0    5901\n",
      "1    1142\n",
      "Name: count, dtype: int64\n",
      "\n",
      "Column: Partner\n",
      "Partner\n",
      "No     3641\n",
      "Yes    3402\n",
      "Name: count, dtype: int64\n",
      "\n",
      "Column: Dependents\n",
      "Dependents\n",
      "No     4933\n",
      "Yes    2110\n",
      "Name: count, dtype: int64\n",
      "\n",
      "Column: tenure\n",
      "tenure\n",
      "1     613\n",
      "72    362\n",
      "2     238\n",
      "3     200\n",
      "4     176\n",
      "71    170\n",
      "5     133\n",
      "7     131\n",
      "8     123\n",
      "70    119\n",
      "Name: count, dtype: int64\n",
      "\n",
      "Column: PhoneService\n",
      "PhoneService\n",
      "Yes    6361\n",
      "No      682\n",
      "Name: count, dtype: int64\n",
      "\n",
      "Column: MultipleLines\n",
      "MultipleLines\n",
      "No                  3390\n",
      "Yes                 2971\n",
      "No phone service     682\n",
      "Name: count, dtype: int64\n",
      "\n",
      "Column: InternetService\n",
      "InternetService\n",
      "Fiber optic    3096\n",
      "DSL            2421\n",
      "No             1526\n",
      "Name: count, dtype: int64\n",
      "\n",
      "Column: OnlineSecurity\n",
      "OnlineSecurity\n",
      "No                     3498\n",
      "Yes                    2019\n",
      "No internet service    1526\n",
      "Name: count, dtype: int64\n",
      "\n",
      "Column: OnlineBackup\n",
      "OnlineBackup\n",
      "No                     3088\n",
      "Yes                    2429\n",
      "No internet service    1526\n",
      "Name: count, dtype: int64\n",
      "\n",
      "Column: DeviceProtection\n",
      "DeviceProtection\n",
      "No                     3095\n",
      "Yes                    2422\n",
      "No internet service    1526\n",
      "Name: count, dtype: int64\n",
      "\n",
      "Column: TechSupport\n",
      "TechSupport\n",
      "No                     3473\n",
      "Yes                    2044\n",
      "No internet service    1526\n",
      "Name: count, dtype: int64\n",
      "\n",
      "Column: StreamingTV\n",
      "StreamingTV\n",
      "No                     2810\n",
      "Yes                    2707\n",
      "No internet service    1526\n",
      "Name: count, dtype: int64\n",
      "\n",
      "Column: StreamingMovies\n",
      "StreamingMovies\n",
      "No                     2785\n",
      "Yes                    2732\n",
      "No internet service    1526\n",
      "Name: count, dtype: int64\n",
      "\n",
      "Column: Contract\n",
      "Contract\n",
      "Month-to-month    3875\n",
      "Two year          1695\n",
      "One year          1473\n",
      "Name: count, dtype: int64\n",
      "\n",
      "Column: PaperlessBilling\n",
      "PaperlessBilling\n",
      "Yes    4171\n",
      "No     2872\n",
      "Name: count, dtype: int64\n",
      "\n",
      "Column: PaymentMethod\n",
      "PaymentMethod\n",
      "Electronic check             2365\n",
      "Mailed check                 1612\n",
      "Bank transfer (automatic)    1544\n",
      "Credit card (automatic)      1522\n",
      "Name: count, dtype: int64\n",
      "\n",
      "Column: MonthlyCharges\n",
      "MonthlyCharges\n",
      "20.05    61\n",
      "19.85    45\n",
      "19.95    44\n",
      "19.90    44\n",
      "20.00    43\n",
      "19.70    43\n",
      "19.65    43\n",
      "19.55    40\n",
      "20.15    40\n",
      "19.75    39\n",
      "Name: count, dtype: int64\n",
      "\n",
      "Column: TotalCharges\n",
      "TotalCharges\n",
      "         11\n",
      "20.2     11\n",
      "19.75     9\n",
      "20.05     8\n",
      "19.9      8\n",
      "19.65     8\n",
      "45.3      7\n",
      "19.55     7\n",
      "20.15     6\n",
      "20.25     6\n",
      "Name: count, dtype: int64\n",
      "\n",
      "Column: Churn\n",
      "Churn\n",
      "No     5174\n",
      "Yes    1869\n",
      "Name: count, dtype: int64\n"
     ]
    }
   ],
   "source": [
    "# Loop through each column and print value counts\n",
    "for col in df.columns:\n",
    "    print(f\"\\nColumn: {col}\")\n",
    "    print(df[col].value_counts(dropna=False).head(10))  # show top 10 most frequent values"
   ]
  },
  {
   "cell_type": "markdown",
   "id": "ae1db05e",
   "metadata": {},
   "source": [
    "# DATA OVERVIEW"
   ]
  },
  {
   "cell_type": "code",
   "execution_count": 6,
   "id": "a03b7e3d",
   "metadata": {},
   "outputs": [
    {
     "data": {
      "text/markdown": [
       "## **DATA OVERVIEW**"
      ],
      "text/plain": [
       "<IPython.core.display.Markdown object>"
      ]
     },
     "metadata": {},
     "output_type": "display_data"
    },
    {
     "data": {
      "text/markdown": [
       "**Preview of the first five rows:**"
      ],
      "text/plain": [
       "<IPython.core.display.Markdown object>"
      ]
     },
     "metadata": {},
     "output_type": "display_data"
    },
    {
     "data": {
      "text/html": [
       "<div>\n",
       "<style scoped>\n",
       "    .dataframe tbody tr th:only-of-type {\n",
       "        vertical-align: middle;\n",
       "    }\n",
       "\n",
       "    .dataframe tbody tr th {\n",
       "        vertical-align: top;\n",
       "    }\n",
       "\n",
       "    .dataframe thead th {\n",
       "        text-align: right;\n",
       "    }\n",
       "</style>\n",
       "<table border=\"1\" class=\"dataframe\">\n",
       "  <thead>\n",
       "    <tr style=\"text-align: right;\">\n",
       "      <th></th>\n",
       "      <th>customerID</th>\n",
       "      <th>gender</th>\n",
       "      <th>SeniorCitizen</th>\n",
       "      <th>Partner</th>\n",
       "      <th>Dependents</th>\n",
       "      <th>tenure</th>\n",
       "      <th>PhoneService</th>\n",
       "      <th>MultipleLines</th>\n",
       "      <th>InternetService</th>\n",
       "      <th>OnlineSecurity</th>\n",
       "      <th>...</th>\n",
       "      <th>DeviceProtection</th>\n",
       "      <th>TechSupport</th>\n",
       "      <th>StreamingTV</th>\n",
       "      <th>StreamingMovies</th>\n",
       "      <th>Contract</th>\n",
       "      <th>PaperlessBilling</th>\n",
       "      <th>PaymentMethod</th>\n",
       "      <th>MonthlyCharges</th>\n",
       "      <th>TotalCharges</th>\n",
       "      <th>Churn</th>\n",
       "    </tr>\n",
       "  </thead>\n",
       "  <tbody>\n",
       "    <tr>\n",
       "      <th>0</th>\n",
       "      <td>7590-VHVEG</td>\n",
       "      <td>Female</td>\n",
       "      <td>0</td>\n",
       "      <td>Yes</td>\n",
       "      <td>No</td>\n",
       "      <td>1</td>\n",
       "      <td>No</td>\n",
       "      <td>No phone service</td>\n",
       "      <td>DSL</td>\n",
       "      <td>No</td>\n",
       "      <td>...</td>\n",
       "      <td>No</td>\n",
       "      <td>No</td>\n",
       "      <td>No</td>\n",
       "      <td>No</td>\n",
       "      <td>Month-to-month</td>\n",
       "      <td>Yes</td>\n",
       "      <td>Electronic check</td>\n",
       "      <td>29.85</td>\n",
       "      <td>29.85</td>\n",
       "      <td>No</td>\n",
       "    </tr>\n",
       "    <tr>\n",
       "      <th>1</th>\n",
       "      <td>5575-GNVDE</td>\n",
       "      <td>Male</td>\n",
       "      <td>0</td>\n",
       "      <td>No</td>\n",
       "      <td>No</td>\n",
       "      <td>34</td>\n",
       "      <td>Yes</td>\n",
       "      <td>No</td>\n",
       "      <td>DSL</td>\n",
       "      <td>Yes</td>\n",
       "      <td>...</td>\n",
       "      <td>Yes</td>\n",
       "      <td>No</td>\n",
       "      <td>No</td>\n",
       "      <td>No</td>\n",
       "      <td>One year</td>\n",
       "      <td>No</td>\n",
       "      <td>Mailed check</td>\n",
       "      <td>56.95</td>\n",
       "      <td>1889.5</td>\n",
       "      <td>No</td>\n",
       "    </tr>\n",
       "    <tr>\n",
       "      <th>2</th>\n",
       "      <td>3668-QPYBK</td>\n",
       "      <td>Male</td>\n",
       "      <td>0</td>\n",
       "      <td>No</td>\n",
       "      <td>No</td>\n",
       "      <td>2</td>\n",
       "      <td>Yes</td>\n",
       "      <td>No</td>\n",
       "      <td>DSL</td>\n",
       "      <td>Yes</td>\n",
       "      <td>...</td>\n",
       "      <td>No</td>\n",
       "      <td>No</td>\n",
       "      <td>No</td>\n",
       "      <td>No</td>\n",
       "      <td>Month-to-month</td>\n",
       "      <td>Yes</td>\n",
       "      <td>Mailed check</td>\n",
       "      <td>53.85</td>\n",
       "      <td>108.15</td>\n",
       "      <td>Yes</td>\n",
       "    </tr>\n",
       "    <tr>\n",
       "      <th>3</th>\n",
       "      <td>7795-CFOCW</td>\n",
       "      <td>Male</td>\n",
       "      <td>0</td>\n",
       "      <td>No</td>\n",
       "      <td>No</td>\n",
       "      <td>45</td>\n",
       "      <td>No</td>\n",
       "      <td>No phone service</td>\n",
       "      <td>DSL</td>\n",
       "      <td>Yes</td>\n",
       "      <td>...</td>\n",
       "      <td>Yes</td>\n",
       "      <td>Yes</td>\n",
       "      <td>No</td>\n",
       "      <td>No</td>\n",
       "      <td>One year</td>\n",
       "      <td>No</td>\n",
       "      <td>Bank transfer (automatic)</td>\n",
       "      <td>42.30</td>\n",
       "      <td>1840.75</td>\n",
       "      <td>No</td>\n",
       "    </tr>\n",
       "    <tr>\n",
       "      <th>4</th>\n",
       "      <td>9237-HQITU</td>\n",
       "      <td>Female</td>\n",
       "      <td>0</td>\n",
       "      <td>No</td>\n",
       "      <td>No</td>\n",
       "      <td>2</td>\n",
       "      <td>Yes</td>\n",
       "      <td>No</td>\n",
       "      <td>Fiber optic</td>\n",
       "      <td>No</td>\n",
       "      <td>...</td>\n",
       "      <td>No</td>\n",
       "      <td>No</td>\n",
       "      <td>No</td>\n",
       "      <td>No</td>\n",
       "      <td>Month-to-month</td>\n",
       "      <td>Yes</td>\n",
       "      <td>Electronic check</td>\n",
       "      <td>70.70</td>\n",
       "      <td>151.65</td>\n",
       "      <td>Yes</td>\n",
       "    </tr>\n",
       "  </tbody>\n",
       "</table>\n",
       "<p>5 rows × 21 columns</p>\n",
       "</div>"
      ],
      "text/plain": [
       "   customerID  gender  SeniorCitizen Partner Dependents  tenure PhoneService  \\\n",
       "0  7590-VHVEG  Female              0     Yes         No       1           No   \n",
       "1  5575-GNVDE    Male              0      No         No      34          Yes   \n",
       "2  3668-QPYBK    Male              0      No         No       2          Yes   \n",
       "3  7795-CFOCW    Male              0      No         No      45           No   \n",
       "4  9237-HQITU  Female              0      No         No       2          Yes   \n",
       "\n",
       "      MultipleLines InternetService OnlineSecurity  ... DeviceProtection  \\\n",
       "0  No phone service             DSL             No  ...               No   \n",
       "1                No             DSL            Yes  ...              Yes   \n",
       "2                No             DSL            Yes  ...               No   \n",
       "3  No phone service             DSL            Yes  ...              Yes   \n",
       "4                No     Fiber optic             No  ...               No   \n",
       "\n",
       "  TechSupport StreamingTV StreamingMovies        Contract PaperlessBilling  \\\n",
       "0          No          No              No  Month-to-month              Yes   \n",
       "1          No          No              No        One year               No   \n",
       "2          No          No              No  Month-to-month              Yes   \n",
       "3         Yes          No              No        One year               No   \n",
       "4          No          No              No  Month-to-month              Yes   \n",
       "\n",
       "               PaymentMethod MonthlyCharges  TotalCharges Churn  \n",
       "0           Electronic check          29.85         29.85    No  \n",
       "1               Mailed check          56.95        1889.5    No  \n",
       "2               Mailed check          53.85        108.15   Yes  \n",
       "3  Bank transfer (automatic)          42.30       1840.75    No  \n",
       "4           Electronic check          70.70        151.65   Yes  \n",
       "\n",
       "[5 rows x 21 columns]"
      ]
     },
     "metadata": {},
     "output_type": "display_data"
    },
    {
     "data": {
      "text/markdown": [
       "**Dataset shape:** (7043, 21)"
      ],
      "text/plain": [
       "<IPython.core.display.Markdown object>"
      ]
     },
     "metadata": {},
     "output_type": "display_data"
    },
    {
     "data": {
      "text/markdown": [
       "**Dataset columns:** ['customerID', 'gender', 'SeniorCitizen', 'Partner', 'Dependents', 'tenure', 'PhoneService', 'MultipleLines', 'InternetService', 'OnlineSecurity', 'OnlineBackup', 'DeviceProtection', 'TechSupport', 'StreamingTV', 'StreamingMovies', 'Contract', 'PaperlessBilling', 'PaymentMethod', 'MonthlyCharges', 'TotalCharges', 'Churn']"
      ],
      "text/plain": [
       "<IPython.core.display.Markdown object>"
      ]
     },
     "metadata": {},
     "output_type": "display_data"
    },
    {
     "data": {
      "text/markdown": [
       "## **DATA TYPES**"
      ],
      "text/plain": [
       "<IPython.core.display.Markdown object>"
      ]
     },
     "metadata": {},
     "output_type": "display_data"
    },
    {
     "data": {
      "text/markdown": [
       "**Data types:**"
      ],
      "text/plain": [
       "<IPython.core.display.Markdown object>"
      ]
     },
     "metadata": {},
     "output_type": "display_data"
    },
    {
     "data": {
      "text/plain": [
       "customerID           object\n",
       "gender               object\n",
       "SeniorCitizen         int64\n",
       "Partner              object\n",
       "Dependents           object\n",
       "tenure                int64\n",
       "PhoneService         object\n",
       "MultipleLines        object\n",
       "InternetService      object\n",
       "OnlineSecurity       object\n",
       "OnlineBackup         object\n",
       "DeviceProtection     object\n",
       "TechSupport          object\n",
       "StreamingTV          object\n",
       "StreamingMovies      object\n",
       "Contract             object\n",
       "PaperlessBilling     object\n",
       "PaymentMethod        object\n",
       "MonthlyCharges      float64\n",
       "TotalCharges         object\n",
       "Churn                object\n",
       "dtype: object"
      ]
     },
     "metadata": {},
     "output_type": "display_data"
    },
    {
     "data": {
      "text/markdown": [
       "## **META DATA**"
      ],
      "text/plain": [
       "<IPython.core.display.Markdown object>"
      ]
     },
     "metadata": {},
     "output_type": "display_data"
    },
    {
     "data": {
      "text/markdown": [
       "**Meta data:**"
      ],
      "text/plain": [
       "<IPython.core.display.Markdown object>"
      ]
     },
     "metadata": {},
     "output_type": "display_data"
    },
    {
     "name": "stdout",
     "output_type": "stream",
     "text": [
      "<class 'pandas.core.frame.DataFrame'>\n",
      "RangeIndex: 7043 entries, 0 to 7042\n",
      "Data columns (total 21 columns):\n",
      " #   Column            Non-Null Count  Dtype  \n",
      "---  ------            --------------  -----  \n",
      " 0   customerID        7043 non-null   object \n",
      " 1   gender            7043 non-null   object \n",
      " 2   SeniorCitizen     7043 non-null   int64  \n",
      " 3   Partner           7043 non-null   object \n",
      " 4   Dependents        7043 non-null   object \n",
      " 5   tenure            7043 non-null   int64  \n",
      " 6   PhoneService      7043 non-null   object \n",
      " 7   MultipleLines     7043 non-null   object \n",
      " 8   InternetService   7043 non-null   object \n",
      " 9   OnlineSecurity    7043 non-null   object \n",
      " 10  OnlineBackup      7043 non-null   object \n",
      " 11  DeviceProtection  7043 non-null   object \n",
      " 12  TechSupport       7043 non-null   object \n",
      " 13  StreamingTV       7043 non-null   object \n",
      " 14  StreamingMovies   7043 non-null   object \n",
      " 15  Contract          7043 non-null   object \n",
      " 16  PaperlessBilling  7043 non-null   object \n",
      " 17  PaymentMethod     7043 non-null   object \n",
      " 18  MonthlyCharges    7043 non-null   float64\n",
      " 19  TotalCharges      7043 non-null   object \n",
      " 20  Churn             7043 non-null   object \n",
      "dtypes: float64(1), int64(2), object(18)\n",
      "memory usage: 1.1+ MB\n"
     ]
    },
    {
     "data": {
      "text/plain": [
       "None"
      ]
     },
     "metadata": {},
     "output_type": "display_data"
    },
    {
     "data": {
      "text/markdown": [
       "## **STATISTICAL SUMMARY**"
      ],
      "text/plain": [
       "<IPython.core.display.Markdown object>"
      ]
     },
     "metadata": {},
     "output_type": "display_data"
    },
    {
     "data": {
      "text/markdown": [
       "**Statistical summary:**"
      ],
      "text/plain": [
       "<IPython.core.display.Markdown object>"
      ]
     },
     "metadata": {},
     "output_type": "display_data"
    },
    {
     "data": {
      "text/html": [
       "<div>\n",
       "<style scoped>\n",
       "    .dataframe tbody tr th:only-of-type {\n",
       "        vertical-align: middle;\n",
       "    }\n",
       "\n",
       "    .dataframe tbody tr th {\n",
       "        vertical-align: top;\n",
       "    }\n",
       "\n",
       "    .dataframe thead th {\n",
       "        text-align: right;\n",
       "    }\n",
       "</style>\n",
       "<table border=\"1\" class=\"dataframe\">\n",
       "  <thead>\n",
       "    <tr style=\"text-align: right;\">\n",
       "      <th></th>\n",
       "      <th>SeniorCitizen</th>\n",
       "      <th>tenure</th>\n",
       "      <th>MonthlyCharges</th>\n",
       "    </tr>\n",
       "  </thead>\n",
       "  <tbody>\n",
       "    <tr>\n",
       "      <th>count</th>\n",
       "      <td>7043.00</td>\n",
       "      <td>7043.00</td>\n",
       "      <td>7043.00</td>\n",
       "    </tr>\n",
       "    <tr>\n",
       "      <th>mean</th>\n",
       "      <td>0.16</td>\n",
       "      <td>32.37</td>\n",
       "      <td>64.76</td>\n",
       "    </tr>\n",
       "    <tr>\n",
       "      <th>std</th>\n",
       "      <td>0.37</td>\n",
       "      <td>24.56</td>\n",
       "      <td>30.09</td>\n",
       "    </tr>\n",
       "    <tr>\n",
       "      <th>min</th>\n",
       "      <td>0.00</td>\n",
       "      <td>0.00</td>\n",
       "      <td>18.25</td>\n",
       "    </tr>\n",
       "    <tr>\n",
       "      <th>25%</th>\n",
       "      <td>0.00</td>\n",
       "      <td>9.00</td>\n",
       "      <td>35.50</td>\n",
       "    </tr>\n",
       "    <tr>\n",
       "      <th>50%</th>\n",
       "      <td>0.00</td>\n",
       "      <td>29.00</td>\n",
       "      <td>70.35</td>\n",
       "    </tr>\n",
       "    <tr>\n",
       "      <th>75%</th>\n",
       "      <td>0.00</td>\n",
       "      <td>55.00</td>\n",
       "      <td>89.85</td>\n",
       "    </tr>\n",
       "    <tr>\n",
       "      <th>max</th>\n",
       "      <td>1.00</td>\n",
       "      <td>72.00</td>\n",
       "      <td>118.75</td>\n",
       "    </tr>\n",
       "  </tbody>\n",
       "</table>\n",
       "</div>"
      ],
      "text/plain": [
       "       SeniorCitizen   tenure  MonthlyCharges\n",
       "count        7043.00  7043.00         7043.00\n",
       "mean            0.16    32.37           64.76\n",
       "std             0.37    24.56           30.09\n",
       "min             0.00     0.00           18.25\n",
       "25%             0.00     9.00           35.50\n",
       "50%             0.00    29.00           70.35\n",
       "75%             0.00    55.00           89.85\n",
       "max             1.00    72.00          118.75"
      ]
     },
     "metadata": {},
     "output_type": "display_data"
    },
    {
     "data": {
      "text/markdown": [
       "## **MISSING VALUES**"
      ],
      "text/plain": [
       "<IPython.core.display.Markdown object>"
      ]
     },
     "metadata": {},
     "output_type": "display_data"
    },
    {
     "data": {
      "text/markdown": [
       "**Missing Values:**"
      ],
      "text/plain": [
       "<IPython.core.display.Markdown object>"
      ]
     },
     "metadata": {},
     "output_type": "display_data"
    },
    {
     "data": {
      "text/plain": [
       "customerID          0\n",
       "gender              0\n",
       "SeniorCitizen       0\n",
       "Partner             0\n",
       "Dependents          0\n",
       "tenure              0\n",
       "PhoneService        0\n",
       "MultipleLines       0\n",
       "InternetService     0\n",
       "OnlineSecurity      0\n",
       "OnlineBackup        0\n",
       "DeviceProtection    0\n",
       "TechSupport         0\n",
       "StreamingTV         0\n",
       "StreamingMovies     0\n",
       "Contract            0\n",
       "PaperlessBilling    0\n",
       "PaymentMethod       0\n",
       "MonthlyCharges      0\n",
       "TotalCharges        0\n",
       "Churn               0\n",
       "dtype: int64"
      ]
     },
     "metadata": {},
     "output_type": "display_data"
    },
    {
     "data": {
      "text/markdown": [
       "## **DUPLICATES**"
      ],
      "text/plain": [
       "<IPython.core.display.Markdown object>"
      ]
     },
     "metadata": {},
     "output_type": "display_data"
    },
    {
     "data": {
      "text/markdown": [
       "**Duplicates:**"
      ],
      "text/plain": [
       "<IPython.core.display.Markdown object>"
      ]
     },
     "metadata": {},
     "output_type": "display_data"
    },
    {
     "data": {
      "text/plain": [
       "False    7043\n",
       "Name: count, dtype: int64"
      ]
     },
     "metadata": {},
     "output_type": "display_data"
    }
   ],
   "source": [
    "from IPython.display import display, Markdown\n",
    "\n",
    "display(Markdown(\"## **DATA OVERVIEW**\"))\n",
    "display(Markdown(\"**Preview of the first five rows:**\"))\n",
    "display(df.head())\n",
    "\n",
    "display(Markdown(f\"**Dataset shape:** {df.shape}\"))\n",
    "display(Markdown(f\"**Dataset columns:** {list(df.columns)}\"))\n",
    "\n",
    "display(Markdown(\"## **DATA TYPES**\"))\n",
    "display(Markdown(\"**Data types:**\"))\n",
    "display(df.dtypes)\n",
    "\n",
    "display(Markdown(\"## **META DATA**\"))\n",
    "display(Markdown(\"**Meta data:**\"))\n",
    "display(df.info()) \n",
    "\n",
    "display(Markdown(\"## **STATISTICAL SUMMARY**\"))\n",
    "display(Markdown(\"**Statistical summary:**\"))\n",
    "display(df.describe().round(2))\n",
    "\n",
    "display(Markdown(\"## **MISSING VALUES**\"))\n",
    "display(Markdown(\"**Missing Values:**\"))\n",
    "display(df.isna().sum())\n",
    "\n",
    "display(Markdown(\"## **DUPLICATES**\"))\n",
    "display(Markdown(\"**Duplicates:**\"))\n",
    "display(df.duplicated().value_counts())"
   ]
  },
  {
   "cell_type": "markdown",
   "id": "49dab2de",
   "metadata": {},
   "source": [
    "# DATA PREPARATION"
   ]
  },
  {
   "cell_type": "markdown",
   "id": "f120ea82",
   "metadata": {},
   "source": [
    "# Data Quality Check\n",
    "\n",
    "- There are no missing values or duplicate rows in the dataset \n",
    "- Most columns have the correct data types except the **`TotalCharges`** column that is  currently stored as an **object (string)** but it should be a **float (numeric)** \n",
    "- We will need to convert **`TotalCharges`** from object to float before proceeding with analysis or modeling\n"
   ]
  },
  {
   "cell_type": "code",
   "execution_count": 7,
   "id": "6e7b5821",
   "metadata": {},
   "outputs": [
    {
     "data": {
      "text/plain": [
       "TotalCharges\n",
       "          11\n",
       "20.2      11\n",
       "19.75      9\n",
       "20.05      8\n",
       "19.9       8\n",
       "          ..\n",
       "6849.4     1\n",
       "692.35     1\n",
       "130.15     1\n",
       "3211.9     1\n",
       "6844.5     1\n",
       "Name: count, Length: 6531, dtype: int64"
      ]
     },
     "execution_count": 7,
     "metadata": {},
     "output_type": "execute_result"
    }
   ],
   "source": [
    "df[\"TotalCharges\"].value_counts()"
   ]
  },
  {
   "cell_type": "code",
   "execution_count": 8,
   "id": "a962a526",
   "metadata": {},
   "outputs": [],
   "source": [
    "# Replace empty strings with NaN\n",
    "df['TotalCharges'] = df['TotalCharges'].replace(' ', np.nan)\n",
    "\n",
    "# Convert to float\n",
    "df['TotalCharges'] = df['TotalCharges'].astype(float)\n"
   ]
  },
  {
   "cell_type": "code",
   "execution_count": 9,
   "id": "a926d16a",
   "metadata": {},
   "outputs": [
    {
     "name": "stdout",
     "output_type": "stream",
     "text": [
      "float64\n",
      "11\n"
     ]
    }
   ],
   "source": [
    "# Let's see the datatype  of the total charges column and also try and see the nans\n",
    "print(df['TotalCharges'].dtype)       \n",
    "print(df['TotalCharges'].isna().sum())\n"
   ]
  },
  {
   "cell_type": "markdown",
   "id": "ad5d600d",
   "metadata": {},
   "source": [
    "## Handling Missing Values in `TotalCharges`\n",
    "\n",
    "- Fill any `NaN` values with `0` to ensure the column has only numeric values\n",
    "- Recheck the column to confirm that no missing values remain\n"
   ]
  },
  {
   "cell_type": "code",
   "execution_count": 10,
   "id": "c6720d9e",
   "metadata": {},
   "outputs": [
    {
     "data": {
      "text/plain": [
       "0"
      ]
     },
     "execution_count": 10,
     "metadata": {},
     "output_type": "execute_result"
    }
   ],
   "source": [
    "# Fill NaNs with 0\n",
    "df['TotalCharges'] = df['TotalCharges'].fillna(0)\n",
    "\n",
    "# Recheck for missing values\n",
    "df['TotalCharges'].isna().sum()\n"
   ]
  },
  {
   "cell_type": "code",
   "execution_count": 11,
   "id": "90299e65",
   "metadata": {},
   "outputs": [
    {
     "data": {
      "text/plain": [
       "customerID           object\n",
       "gender               object\n",
       "SeniorCitizen         int64\n",
       "Partner              object\n",
       "Dependents           object\n",
       "tenure                int64\n",
       "PhoneService         object\n",
       "MultipleLines        object\n",
       "InternetService      object\n",
       "OnlineSecurity       object\n",
       "OnlineBackup         object\n",
       "DeviceProtection     object\n",
       "TechSupport          object\n",
       "StreamingTV          object\n",
       "StreamingMovies      object\n",
       "Contract             object\n",
       "PaperlessBilling     object\n",
       "PaymentMethod        object\n",
       "MonthlyCharges      float64\n",
       "TotalCharges        float64\n",
       "Churn                object\n",
       "dtype: object"
      ]
     },
     "execution_count": 11,
     "metadata": {},
     "output_type": "execute_result"
    }
   ],
   "source": [
    "df.dtypes"
   ]
  },
  {
   "cell_type": "markdown",
   "id": "0303652c",
   "metadata": {},
   "source": [
    "- Now each column has the appropriate datatype"
   ]
  },
  {
   "cell_type": "code",
   "execution_count": 12,
   "id": "37322b53",
   "metadata": {},
   "outputs": [
    {
     "data": {
      "text/html": [
       "<div>\n",
       "<style scoped>\n",
       "    .dataframe tbody tr th:only-of-type {\n",
       "        vertical-align: middle;\n",
       "    }\n",
       "\n",
       "    .dataframe tbody tr th {\n",
       "        vertical-align: top;\n",
       "    }\n",
       "\n",
       "    .dataframe thead th {\n",
       "        text-align: right;\n",
       "    }\n",
       "</style>\n",
       "<table border=\"1\" class=\"dataframe\">\n",
       "  <thead>\n",
       "    <tr style=\"text-align: right;\">\n",
       "      <th></th>\n",
       "      <th>SeniorCitizen</th>\n",
       "      <th>tenure</th>\n",
       "      <th>MonthlyCharges</th>\n",
       "      <th>TotalCharges</th>\n",
       "    </tr>\n",
       "  </thead>\n",
       "  <tbody>\n",
       "    <tr>\n",
       "      <th>count</th>\n",
       "      <td>7043.000000</td>\n",
       "      <td>7043.000000</td>\n",
       "      <td>7043.000000</td>\n",
       "      <td>7043.000000</td>\n",
       "    </tr>\n",
       "    <tr>\n",
       "      <th>mean</th>\n",
       "      <td>0.162147</td>\n",
       "      <td>32.371149</td>\n",
       "      <td>64.761692</td>\n",
       "      <td>2279.734304</td>\n",
       "    </tr>\n",
       "    <tr>\n",
       "      <th>std</th>\n",
       "      <td>0.368612</td>\n",
       "      <td>24.559481</td>\n",
       "      <td>30.090047</td>\n",
       "      <td>2266.794470</td>\n",
       "    </tr>\n",
       "    <tr>\n",
       "      <th>min</th>\n",
       "      <td>0.000000</td>\n",
       "      <td>0.000000</td>\n",
       "      <td>18.250000</td>\n",
       "      <td>0.000000</td>\n",
       "    </tr>\n",
       "    <tr>\n",
       "      <th>25%</th>\n",
       "      <td>0.000000</td>\n",
       "      <td>9.000000</td>\n",
       "      <td>35.500000</td>\n",
       "      <td>398.550000</td>\n",
       "    </tr>\n",
       "    <tr>\n",
       "      <th>50%</th>\n",
       "      <td>0.000000</td>\n",
       "      <td>29.000000</td>\n",
       "      <td>70.350000</td>\n",
       "      <td>1394.550000</td>\n",
       "    </tr>\n",
       "    <tr>\n",
       "      <th>75%</th>\n",
       "      <td>0.000000</td>\n",
       "      <td>55.000000</td>\n",
       "      <td>89.850000</td>\n",
       "      <td>3786.600000</td>\n",
       "    </tr>\n",
       "    <tr>\n",
       "      <th>max</th>\n",
       "      <td>1.000000</td>\n",
       "      <td>72.000000</td>\n",
       "      <td>118.750000</td>\n",
       "      <td>8684.800000</td>\n",
       "    </tr>\n",
       "  </tbody>\n",
       "</table>\n",
       "</div>"
      ],
      "text/plain": [
       "       SeniorCitizen       tenure  MonthlyCharges  TotalCharges\n",
       "count    7043.000000  7043.000000     7043.000000   7043.000000\n",
       "mean        0.162147    32.371149       64.761692   2279.734304\n",
       "std         0.368612    24.559481       30.090047   2266.794470\n",
       "min         0.000000     0.000000       18.250000      0.000000\n",
       "25%         0.000000     9.000000       35.500000    398.550000\n",
       "50%         0.000000    29.000000       70.350000   1394.550000\n",
       "75%         0.000000    55.000000       89.850000   3786.600000\n",
       "max         1.000000    72.000000      118.750000   8684.800000"
      ]
     },
     "execution_count": 12,
     "metadata": {},
     "output_type": "execute_result"
    }
   ],
   "source": [
    "df.describe()"
   ]
  },
  {
   "cell_type": "markdown",
   "id": "d0b68443",
   "metadata": {},
   "source": [
    "## Statistical Summary Interpretation\n",
    "\n",
    "- The dataset contains 7043 customers\n",
    "- About 16% are senior citizens indicating the majority are younger customers.\n",
    "- The average tenure is approximately 32 months, with values ranging from 0 to 72 months showing a mix of new and long term customers\n",
    "- Monthly charges average around 64.76 ranging from 18.25 to 118.75 indicating a broad spread of service plans\n",
    "- Total charges average 2279.73 but vary widely from $0 to 8684.80 reflecting differences in both customer tenure and plan costs\n"
   ]
  },
  {
   "cell_type": "markdown",
   "id": "db94b03e",
   "metadata": {},
   "source": [
    "# Placeholder Value Check & Outlier Detection"
   ]
  },
  {
   "cell_type": "code",
   "execution_count": 13,
   "id": "7b7154ae",
   "metadata": {},
   "outputs": [
    {
     "data": {
      "text/markdown": [
       "## **Placeholder Values Check**"
      ],
      "text/plain": [
       "<IPython.core.display.Markdown object>"
      ]
     },
     "metadata": {},
     "output_type": "display_data"
    },
    {
     "data": {
      "text/markdown": [
       "**Column: 'customerID' : No placeholders found**"
      ],
      "text/plain": [
       "<IPython.core.display.Markdown object>"
      ]
     },
     "metadata": {},
     "output_type": "display_data"
    },
    {
     "data": {
      "text/markdown": [
       "**Column: 'gender' : No placeholders found**"
      ],
      "text/plain": [
       "<IPython.core.display.Markdown object>"
      ]
     },
     "metadata": {},
     "output_type": "display_data"
    },
    {
     "data": {
      "text/markdown": [
       "**Column: 'SeniorCitizen' : No placeholders found**"
      ],
      "text/plain": [
       "<IPython.core.display.Markdown object>"
      ]
     },
     "metadata": {},
     "output_type": "display_data"
    },
    {
     "data": {
      "text/markdown": [
       "**Column: 'Partner' : No placeholders found**"
      ],
      "text/plain": [
       "<IPython.core.display.Markdown object>"
      ]
     },
     "metadata": {},
     "output_type": "display_data"
    },
    {
     "data": {
      "text/markdown": [
       "**Column: 'Dependents' : No placeholders found**"
      ],
      "text/plain": [
       "<IPython.core.display.Markdown object>"
      ]
     },
     "metadata": {},
     "output_type": "display_data"
    },
    {
     "data": {
      "text/markdown": [
       "**Column: 'tenure' : No placeholders found**"
      ],
      "text/plain": [
       "<IPython.core.display.Markdown object>"
      ]
     },
     "metadata": {},
     "output_type": "display_data"
    },
    {
     "data": {
      "text/markdown": [
       "**Column: 'PhoneService' : No placeholders found**"
      ],
      "text/plain": [
       "<IPython.core.display.Markdown object>"
      ]
     },
     "metadata": {},
     "output_type": "display_data"
    },
    {
     "data": {
      "text/markdown": [
       "**Column: 'MultipleLines' : No placeholders found**"
      ],
      "text/plain": [
       "<IPython.core.display.Markdown object>"
      ]
     },
     "metadata": {},
     "output_type": "display_data"
    },
    {
     "data": {
      "text/markdown": [
       "**Column: 'InternetService' : No placeholders found**"
      ],
      "text/plain": [
       "<IPython.core.display.Markdown object>"
      ]
     },
     "metadata": {},
     "output_type": "display_data"
    },
    {
     "data": {
      "text/markdown": [
       "**Column: 'OnlineSecurity' : No placeholders found**"
      ],
      "text/plain": [
       "<IPython.core.display.Markdown object>"
      ]
     },
     "metadata": {},
     "output_type": "display_data"
    },
    {
     "data": {
      "text/markdown": [
       "**Column: 'OnlineBackup' : No placeholders found**"
      ],
      "text/plain": [
       "<IPython.core.display.Markdown object>"
      ]
     },
     "metadata": {},
     "output_type": "display_data"
    },
    {
     "data": {
      "text/markdown": [
       "**Column: 'DeviceProtection' : No placeholders found**"
      ],
      "text/plain": [
       "<IPython.core.display.Markdown object>"
      ]
     },
     "metadata": {},
     "output_type": "display_data"
    },
    {
     "data": {
      "text/markdown": [
       "**Column: 'TechSupport' : No placeholders found**"
      ],
      "text/plain": [
       "<IPython.core.display.Markdown object>"
      ]
     },
     "metadata": {},
     "output_type": "display_data"
    },
    {
     "data": {
      "text/markdown": [
       "**Column: 'StreamingTV' : No placeholders found**"
      ],
      "text/plain": [
       "<IPython.core.display.Markdown object>"
      ]
     },
     "metadata": {},
     "output_type": "display_data"
    },
    {
     "data": {
      "text/markdown": [
       "**Column: 'StreamingMovies' : No placeholders found**"
      ],
      "text/plain": [
       "<IPython.core.display.Markdown object>"
      ]
     },
     "metadata": {},
     "output_type": "display_data"
    },
    {
     "data": {
      "text/markdown": [
       "**Column: 'Contract' : No placeholders found**"
      ],
      "text/plain": [
       "<IPython.core.display.Markdown object>"
      ]
     },
     "metadata": {},
     "output_type": "display_data"
    },
    {
     "data": {
      "text/markdown": [
       "**Column: 'PaperlessBilling' : No placeholders found**"
      ],
      "text/plain": [
       "<IPython.core.display.Markdown object>"
      ]
     },
     "metadata": {},
     "output_type": "display_data"
    },
    {
     "data": {
      "text/markdown": [
       "**Column: 'PaymentMethod' : No placeholders found**"
      ],
      "text/plain": [
       "<IPython.core.display.Markdown object>"
      ]
     },
     "metadata": {},
     "output_type": "display_data"
    },
    {
     "data": {
      "text/markdown": [
       "**Column: 'MonthlyCharges' : No placeholders found**"
      ],
      "text/plain": [
       "<IPython.core.display.Markdown object>"
      ]
     },
     "metadata": {},
     "output_type": "display_data"
    },
    {
     "data": {
      "text/markdown": [
       "**Column: 'TotalCharges' : No placeholders found**"
      ],
      "text/plain": [
       "<IPython.core.display.Markdown object>"
      ]
     },
     "metadata": {},
     "output_type": "display_data"
    },
    {
     "data": {
      "text/markdown": [
       "**Column: 'Churn' : No placeholders found**"
      ],
      "text/plain": [
       "<IPython.core.display.Markdown object>"
      ]
     },
     "metadata": {},
     "output_type": "display_data"
    },
    {
     "data": {
      "text/markdown": [
       "## **Outlier Detection (IQR Method)**"
      ],
      "text/plain": [
       "<IPython.core.display.Markdown object>"
      ]
     },
     "metadata": {},
     "output_type": "display_data"
    },
    {
     "data": {
      "text/markdown": [
       "**SeniorCitizen : Skipped (binary column)**"
      ],
      "text/plain": [
       "<IPython.core.display.Markdown object>"
      ]
     },
     "metadata": {},
     "output_type": "display_data"
    },
    {
     "data": {
      "text/markdown": [
       "**tenure : Outliers:** 0"
      ],
      "text/plain": [
       "<IPython.core.display.Markdown object>"
      ]
     },
     "metadata": {},
     "output_type": "display_data"
    },
    {
     "data": {
      "text/markdown": [
       "**MonthlyCharges : Outliers:** 0"
      ],
      "text/plain": [
       "<IPython.core.display.Markdown object>"
      ]
     },
     "metadata": {},
     "output_type": "display_data"
    },
    {
     "data": {
      "text/markdown": [
       "**TotalCharges : Outliers:** 0"
      ],
      "text/plain": [
       "<IPython.core.display.Markdown object>"
      ]
     },
     "metadata": {},
     "output_type": "display_data"
    }
   ],
   "source": [
    "# Function to check placeholder values\n",
    "def check_placeholders(df):\n",
    "    display(Markdown(\"## **Placeholder Values Check**\"))\n",
    "    placeholders_list = ['placeholder', 'na', 'n/a', '?', 'none', 'null', 'missing']\n",
    "    \n",
    "    for column in df.columns:\n",
    "        values = df[column].astype(str).str.strip().str.lower()\n",
    "        placeholders_found = values.isin(placeholders_list)\n",
    "        count = placeholders_found.sum()\n",
    "        if count > 0:\n",
    "            display(Markdown(f\"**Column: '{column}'**\"))\n",
    "            display(Markdown(f\"**Number of placeholder values:** {count}\"))\n",
    "            display(Markdown(f\"**Example placeholders:** {list(values[placeholders_found].unique())}\"))\n",
    "            display(Markdown(\"---\"))\n",
    "        else:\n",
    "            display(Markdown(f\"**Column: '{column}' : No placeholders found**\"))\n",
    "\n",
    "# Function to check for outliers using IQR (excluding binary columns)\n",
    "def check_outliers(df):\n",
    "    display(Markdown(\"## **Outlier Detection (IQR Method)**\"))\n",
    "    numeric_cols = df.select_dtypes(include=['number']).columns\n",
    "    \n",
    "    for col in numeric_cols:\n",
    "        # Skip binary columns (with only 2 unique values)\n",
    "        if df[col].nunique() <= 2:\n",
    "            display(Markdown(f\"**{col} : Skipped (binary column)**\"))\n",
    "            continue\n",
    "        \n",
    "        q1 = df[col].quantile(0.25)\n",
    "        q3 = df[col].quantile(0.75)\n",
    "        iqr = q3 - q1\n",
    "        lower = q1 - 1.5 * iqr\n",
    "        upper = q3 + 1.5 * iqr\n",
    "        outliers = df[(df[col] < lower) | (df[col] > upper)]\n",
    "        display(Markdown(f\"**{col} : Outliers:** {len(outliers)}\"))\n",
    "\n",
    "# Run the checks on your dataset\n",
    "check_placeholders(df)\n",
    "check_outliers(df)\n",
    "\n"
   ]
  },
  {
   "cell_type": "markdown",
   "id": "31d63514",
   "metadata": {},
   "source": [
    "After performing data preparation checks on the dataset:\n",
    "\n",
    "- **No placeholder values** (e.g., `\"na\"`, `\"n/a\"`, `\"?\"`, `\"missing\"`) were found in any column\n",
    "- **No outliers** were detected in the numerical columns (after excluding binary columns from the analysis)\n",
    "\n",
    "This confirms that the dataset is **clean, consistent and ready** for further exploratory data analysis and modeling\n"
   ]
  },
  {
   "cell_type": "markdown",
   "id": "d8691ec4",
   "metadata": {},
   "source": [
    "# Outlier Detection Visual"
   ]
  },
  {
   "cell_type": "code",
   "execution_count": 14,
   "id": "8f51c5dd",
   "metadata": {},
   "outputs": [
    {
     "data": {
      "image/png": "[encoded data removed]",
      "text/plain": [
       "<Figure size 1080x288 with 3 Axes>"
      ]
     },
     "metadata": {
      "needs_background": "light"
     },
     "output_type": "display_data"
    }
   ],
   "source": [
    "# Plot boxplots for all numeric columns (excluding binary)\n",
    "def plot_outliers(df):\n",
    "    numeric_cols = df.select_dtypes(include=['number']).columns\n",
    "    non_binary_cols = [col for col in numeric_cols if df[col].nunique() > 2]\n",
    "\n",
    "    # Set figure size based on number of columns\n",
    "    n_cols = 3\n",
    "    n_rows = -(-len(non_binary_cols) // n_cols)  # ceiling division\n",
    "\n",
    "    plt.figure(figsize=(5 * n_cols, 4 * n_rows))\n",
    "    for i, col in enumerate(non_binary_cols, 1):\n",
    "        plt.subplot(n_rows, n_cols, i)\n",
    "        sns.boxplot(x=df[col], color='skyblue')\n",
    "        plt.title(col)\n",
    "        plt.xlabel(\"\")\n",
    "\n",
    "    plt.suptitle(\"Boxplots of Numerical Features (Outlier Detection)\", fontsize=16, y=1.02)\n",
    "    plt.tight_layout()\n",
    "    plt.show()\n",
    "\n",
    "# Call the plot function\n",
    "plot_outliers(df)\n"
   ]
  },
  {
   "cell_type": "markdown",
   "id": "14462028",
   "metadata": {},
   "source": [
    "- The boxes are compact indicating that the numerical features are well distributed\n",
    "- Whiskers span most of the data range  suggesting balanced spread \n",
    "- No extreme values were found across the numeric columns  \n",
    "\n",
    "The boxplots confirm the earlier IQR analysis:  \n",
    "The dataset is **clean, consistent and free from extreme outliers** for all numeric features analyzed\n"
   ]
  },
  {
   "cell_type": "markdown",
   "id": "e8c481b1",
   "metadata": {},
   "source": [
    "# **Exploratory Data Analysis (EDA)**\n",
    "Univariate : distributions\n",
    "\n",
    "Bivariate : churn comparison\n",
    "\n",
    "Multivariate :  correlations\n",
    "\n",
    "## 1. Univariate Analysis\n",
    "\n",
    "We'll first look at numerical features with histograms then categorical ones with countplots"
   ]
  },
  {
   "cell_type": "code",
   "execution_count": 15,
   "id": "e953a63e",
   "metadata": {},
   "outputs": [
    {
     "data": {
      "image/png": "[encoded data removed]",
      "text/plain": [
       "<Figure size 432x288 with 1 Axes>"
      ]
     },
     "metadata": {
      "needs_background": "light"
     },
     "output_type": "display_data"
    },
    {
     "data": {
      "image/png": "[encoded data removed]",
      "text/plain": [
       "<Figure size 432x288 with 1 Axes>"
      ]
     },
     "metadata": {
      "needs_background": "light"
     },
     "output_type": "display_data"
    },
    {
     "data": {
      "image/png": "[encoded data removed]",
      "text/plain": [
       "<Figure size 432x288 with 1 Axes>"
      ]
     },
     "metadata": {
      "needs_background": "light"
     },
     "output_type": "display_data"
    }
   ],
   "source": [
    "# Univariate Analysis for numeric columns\n",
    "numeric_columns = [\"tenure\", \"MonthlyCharges\", \"TotalCharges\"]\n",
    "\n",
    "for col in numeric_columns:\n",
    "    plt.figure(figsize=(6, 4))\n",
    "    \n",
    "    # Histogram with density instead of frequency\n",
    "    sns.histplot(df[col].dropna(), bins='auto', color='skyblue', kde=False, stat='density', edgecolor='black')\n",
    "    \n",
    "    # KDE overlay\n",
    "    sns.kdeplot(df[col].dropna(), color='purple', linewidth=2)\n",
    "    \n",
    "    plt.title(f\"Distribution of {col}\", fontsize=14)\n",
    "    plt.xlabel(col, fontsize=12)\n",
    "    plt.ylabel(\"Density\", fontsize=12)\n",
    "    plt.tight_layout()\n",
    "    plt.show()\n"
   ]
  },
  {
   "cell_type": "code",
   "execution_count": 16,
   "id": "3242b308",
   "metadata": {},
   "outputs": [
    {
     "data": {
      "image/png": "[encoded data removed]",
      "text/plain": [
       "<Figure size 432x288 with 1 Axes>"
      ]
     },
     "metadata": {
      "needs_background": "light"
     },
     "output_type": "display_data"
    },
    {
     "data": {
      "image/png": "[encoded data removed]",
      "text/plain": [
       "<Figure size 432x288 with 1 Axes>"
      ]
     },
     "metadata": {
      "needs_background": "light"
     },
     "output_type": "display_data"
    },
    {
     "data": {
      "image/png": "[encoded data removed]",
      "text/plain": [
       "<Figure size 432x288 with 1 Axes>"
      ]
     },
     "metadata": {
      "needs_background": "light"
     },
     "output_type": "display_data"
    },
    {
     "data": {
      "image/png": "[encoded data removed]",
      "text/plain": [
       "<Figure size 432x288 with 1 Axes>"
      ]
     },
     "metadata": {
      "needs_background": "light"
     },
     "output_type": "display_data"
    },
    {
     "data": {
      "image/png": "[encoded data removed]",
      "text/plain": [
       "<Figure size 432x288 with 1 Axes>"
      ]
     },
     "metadata": {
      "needs_background": "light"
     },
     "output_type": "display_data"
    },
    {
     "data": {
      "image/png": "[encoded data removed]",
      "text/plain": [
       "<Figure size 432x288 with 1 Axes>"
      ]
     },
     "metadata": {
      "needs_background": "light"
     },
     "output_type": "display_data"
    },
    {
     "data": {
      "image/png": "[encoded data removed]",
      "text/plain": [
       "<Figure size 432x288 with 1 Axes>"
      ]
     },
     "metadata": {
      "needs_background": "light"
     },
     "output_type": "display_data"
    },
    {
     "data": {
      "image/png": "[encoded data removed]",
      "text/plain": [
       "<Figure size 432x288 with 1 Axes>"
      ]
     },
     "metadata": {
      "needs_background": "light"
     },
     "output_type": "display_data"
    },
    {
     "data": {
      "image/png": "[encoded data removed]",
      "text/plain": [
       "<Figure size 432x288 with 1 Axes>"
      ]
     },
     "metadata": {
      "needs_background": "light"
     },
     "output_type": "display_data"
    },
    {
     "data": {
      "image/png": "[encoded data removed]",
      "text/plain": [
       "<Figure size 432x288 with 1 Axes>"
      ]
     },
     "metadata": {
      "needs_background": "light"
     },
     "output_type": "display_data"
    },
    {
     "data": {
      "image/png": "[encoded data removed]",
      "text/plain": [
       "<Figure size 432x288 with 1 Axes>"
      ]
     },
     "metadata": {
      "needs_background": "light"
     },
     "output_type": "display_data"
    },
    {
     "data": {
      "image/png": "[encoded data removed]",
      "text/plain": [
       "<Figure size 432x288 with 1 Axes>"
      ]
     },
     "metadata": {
      "needs_background": "light"
     },
     "output_type": "display_data"
    },
    {
     "data": {
      "image/png": "[encoded data removed]",
      "text/plain": [
       "<Figure size 432x288 with 1 Axes>"
      ]
     },
     "metadata": {
      "needs_background": "light"
     },
     "output_type": "display_data"
    },
    {
     "data": {
      "image/png": "[encoded data removed]",
      "text/plain": [
       "<Figure size 432x288 with 1 Axes>"
      ]
     },
     "metadata": {
      "needs_background": "light"
     },
     "output_type": "display_data"
    },
    {
     "data": {
      "image/png": "[encoded data removed]",
      "text/plain": [
       "<Figure size 432x288 with 1 Axes>"
      ]
     },
     "metadata": {
      "needs_background": "light"
     },
     "output_type": "display_data"
    },
    {
     "data": {
      "image/png": "[encoded data removed]",
      "text/plain": [
       "<Figure size 432x288 with 1 Axes>"
      ]
     },
     "metadata": {
      "needs_background": "light"
     },
     "output_type": "display_data"
    }
   ],
   "source": [
    "# Select categorical columns (excluding customerID)\n",
    "categorical_columns = df.select_dtypes(include=['object']).drop(['customerID'], axis=1).columns\n",
    "\n",
    "# Loop through and plot countplots\n",
    "for col in categorical_columns:\n",
    "    plt.figure(figsize=(6,4))\n",
    "    sns.countplot(x=col, data=df, order=df[col].value_counts().index, palette=\"inferno\")\n",
    "    plt.title(f\"Countplot of {col}\")\n",
    "    plt.xticks(rotation=45)\n",
    "    plt.show()\n",
    "\n"
   ]
  },
  {
   "cell_type": "markdown",
   "id": "ff88abeb",
   "metadata": {},
   "source": [
    "# 2. Bivariate Analysis (Feature vs Target: Churn)\n",
    "\n",
    "Let's see how features relate to churn"
   ]
  },
  {
   "cell_type": "markdown",
   "id": "b56d4796",
   "metadata": {},
   "source": [
    "# Numeric features vs churn (boxplots)"
   ]
  },
  {
   "cell_type": "code",
   "execution_count": 17,
   "id": "636cdb97",
   "metadata": {},
   "outputs": [
    {
     "data": {
      "image/png": "[encoded data removed]",
      "text/plain": [
       "<Figure size 432x288 with 1 Axes>"
      ]
     },
     "metadata": {
      "needs_background": "light"
     },
     "output_type": "display_data"
    },
    {
     "data": {
      "image/png": "[encoded data removed]",
      "text/plain": [
       "<Figure size 432x288 with 1 Axes>"
      ]
     },
     "metadata": {
      "needs_background": "light"
     },
     "output_type": "display_data"
    },
    {
     "data": {
      "image/png": "[encoded data removed]",
      "text/plain": [
       "<Figure size 432x288 with 1 Axes>"
      ]
     },
     "metadata": {
      "needs_background": "light"
     },
     "output_type": "display_data"
    }
   ],
   "source": [
    "for col in numeric_columns:\n",
    "    plt.figure(figsize=(6,4))\n",
    "    sns.boxplot(x=\"Churn\", y=col, hue=\"Churn\", data=df, palette=\"coolwarm\", legend=False)\n",
    "    plt.title(f\"{col} vs Churn\")\n",
    "    plt.show()"
   ]
  },
  {
   "cell_type": "markdown",
   "id": "4ac0a5dd",
   "metadata": {},
   "source": [
    "# Categorical features vs churn"
   ]
  },
  {
   "cell_type": "code",
   "execution_count": 18,
   "id": "a70f40ce",
   "metadata": {},
   "outputs": [
    {
     "data": {
      "image/png": "[encoded data removed]",
      "text/plain": [
       "<Figure size 432x288 with 1 Axes>"
      ]
     },
     "metadata": {
      "needs_background": "light"
     },
     "output_type": "display_data"
    },
    {
     "data": {
      "image/png": "[encoded data removed]",
      "text/plain": [
       "<Figure size 432x288 with 1 Axes>"
      ]
     },
     "metadata": {
      "needs_background": "light"
     },
     "output_type": "display_data"
    },
    {
     "data": {
      "image/png": "[encoded data removed]",
      "text/plain": [
       "<Figure size 432x288 with 1 Axes>"
      ]
     },
     "metadata": {
      "needs_background": "light"
     },
     "output_type": "display_data"
    },
    {
     "data": {
      "image/png": "[encoded data removed]",
      "text/plain": [
       "<Figure size 432x288 with 1 Axes>"
      ]
     },
     "metadata": {
      "needs_background": "light"
     },
     "output_type": "display_data"
    },
    {
     "data": {
      "image/png": "[encoded data removed]",
      "text/plain": [
       "<Figure size 432x288 with 1 Axes>"
      ]
     },
     "metadata": {
      "needs_background": "light"
     },
     "output_type": "display_data"
    },
    {
     "data": {
      "image/png": "[encoded data removed]",
      "text/plain": [
       "<Figure size 432x288 with 1 Axes>"
      ]
     },
     "metadata": {
      "needs_background": "light"
     },
     "output_type": "display_data"
    },
    {
     "data": {
      "image/png": "[encoded data removed]",
      "text/plain": [
       "<Figure size 432x288 with 1 Axes>"
      ]
     },
     "metadata": {
      "needs_background": "light"
     },
     "output_type": "display_data"
    },
    {
     "data": {
      "image/png": "[encoded data removed]",
      "text/plain": [
       "<Figure size 432x288 with 1 Axes>"
      ]
     },
     "metadata": {
      "needs_background": "light"
     },
     "output_type": "display_data"
    },
    {
     "data": {
      "image/png": "[encoded data removed]",
      "text/plain": [
       "<Figure size 432x288 with 1 Axes>"
      ]
     },
     "metadata": {
      "needs_background": "light"
     },
     "output_type": "display_data"
    },
    {
     "data": {
      "image/png": "[encoded data removed]",
      "text/plain": [
       "<Figure size 432x288 with 1 Axes>"
      ]
     },
     "metadata": {
      "needs_background": "light"
     },
     "output_type": "display_data"
    },
    {
     "data": {
      "image/png": "[encoded data removed]",
      "text/plain": [
       "<Figure size 432x288 with 1 Axes>"
      ]
     },
     "metadata": {
      "needs_background": "light"
     },
     "output_type": "display_data"
    },
    {
     "data": {
      "image/png": "[encoded data removed]",
      "text/plain": [
       "<Figure size 432x288 with 1 Axes>"
      ]
     },
     "metadata": {
      "needs_background": "light"
     },
     "output_type": "display_data"
    },
    {
     "data": {
      "image/png": "[encoded data removed]",
      "text/plain": [
       "<Figure size 432x288 with 1 Axes>"
      ]
     },
     "metadata": {
      "needs_background": "light"
     },
     "output_type": "display_data"
    },
    {
     "data": {
      "image/png": "[encoded data removed]",
      "text/plain": [
       "<Figure size 432x288 with 1 Axes>"
      ]
     },
     "metadata": {
      "needs_background": "light"
     },
     "output_type": "display_data"
    },
    {
     "data": {
      "image/png": "[encoded data removed]",
      "text/plain": [
       "<Figure size 432x288 with 1 Axes>"
      ]
     },
     "metadata": {
      "needs_background": "light"
     },
     "output_type": "display_data"
    },
    {
     "data": {
      "image/png": "[encoded data removed]",
      "text/plain": [
       "<Figure size 432x288 with 1 Axes>"
      ]
     },
     "metadata": {
      "needs_background": "light"
     },
     "output_type": "display_data"
    }
   ],
   "source": [
    "for col in categorical_columns:\n",
    "    plt.figure(figsize=(6,4))\n",
    "\n",
    "    sns.countplot(x=col, hue=\"Churn\", data=df, palette= \"plasma\")\n",
    "    plt.title(f\"{col} vs Churn\")\n",
    "    plt.xticks(rotation=45)\n",
    "    plt.show()"
   ]
  },
  {
   "cell_type": "markdown",
   "id": "f41bffea",
   "metadata": {},
   "source": [
    "# 3. Multivariate Analysis (Correlations & Heatmap)"
   ]
  },
  {
   "cell_type": "markdown",
   "id": "40f65e9b",
   "metadata": {},
   "source": [
    "# Correlation heatmap"
   ]
  },
  {
   "cell_type": "code",
   "execution_count": 19,
   "id": "953402e6",
   "metadata": {},
   "outputs": [
    {
     "data": {
      "image/png": "[encoded data removed]",
      "text/plain": [
       "<Figure size 576x432 with 2 Axes>"
      ]
     },
     "metadata": {
      "needs_background": "light"
     },
     "output_type": "display_data"
    }
   ],
   "source": [
    "plt.figure(figsize=(8,6))\n",
    "corr = df.corr(numeric_only=True)\n",
    "sns.heatmap(corr, annot=True, cmap=\"coolwarm\", fmt=\".2f\", cbar=True)\n",
    "plt.title(\"Correlation Heatmap\")\n",
    "plt.show()\n"
   ]
  },
  {
   "cell_type": "markdown",
   "id": "16ffb6a9-91b0-40f7-952b-5f80a8f59a17",
   "metadata": {},
   "source": [
    "# **Feature Engineering**\n",
    "\n",
    "Let's transform the raw dataset into a clean, numerical and model ready format"
   ]
  },
  {
   "cell_type": "markdown",
   "id": "0025d955-1b1a-48a2-b222-20bbff6565c2",
   "metadata": {},
   "source": [
    "##  Drop Irrelevant Columns\n",
    "Let's drop customerID since it's just an identifier and doesn't help  in prediction"
   ]
  },
  {
   "cell_type": "code",
   "execution_count": 20,
   "id": "d47635e3-fc3e-4f9a-99e7-fc9688d014a9",
   "metadata": {},
   "outputs": [],
   "source": [
    "df = df.drop(columns=['customerID'])\n"
   ]
  },
  {
   "cell_type": "markdown",
   "id": "9dad9ed6-5d4d-4501-b663-6acfa9433f88",
   "metadata": {},
   "source": [
    "##  Encode Target Column\n",
    "\n",
    "Let's Convert Churn from Yes/No to 1/0"
   ]
  },
  {
   "cell_type": "code",
   "execution_count": 21,
   "id": "33fd5263-f1cd-496c-848d-f946e13ed49a",
   "metadata": {},
   "outputs": [],
   "source": [
    "df['Churn'] = df['Churn'].map({'Yes':1, 'No':0})"
   ]
  },
  {
   "cell_type": "code",
   "execution_count": 22,
   "id": "bc79e2bd-356f-414b-8435-941da4cb0766",
   "metadata": {},
   "outputs": [
    {
     "data": {
      "text/html": [
       "<div>\n",
       "<style scoped>\n",
       "    .dataframe tbody tr th:only-of-type {\n",
       "        vertical-align: middle;\n",
       "    }\n",
       "\n",
       "    .dataframe tbody tr th {\n",
       "        vertical-align: top;\n",
       "    }\n",
       "\n",
       "    .dataframe thead th {\n",
       "        text-align: right;\n",
       "    }\n",
       "</style>\n",
       "<table border=\"1\" class=\"dataframe\">\n",
       "  <thead>\n",
       "    <tr style=\"text-align: right;\">\n",
       "      <th></th>\n",
       "      <th>gender</th>\n",
       "      <th>SeniorCitizen</th>\n",
       "      <th>Partner</th>\n",
       "      <th>Dependents</th>\n",
       "      <th>tenure</th>\n",
       "      <th>PhoneService</th>\n",
       "      <th>MultipleLines</th>\n",
       "      <th>InternetService</th>\n",
       "      <th>OnlineSecurity</th>\n",
       "      <th>OnlineBackup</th>\n",
       "      <th>DeviceProtection</th>\n",
       "      <th>TechSupport</th>\n",
       "      <th>StreamingTV</th>\n",
       "      <th>StreamingMovies</th>\n",
       "      <th>Contract</th>\n",
       "      <th>PaperlessBilling</th>\n",
       "      <th>PaymentMethod</th>\n",
       "      <th>MonthlyCharges</th>\n",
       "      <th>TotalCharges</th>\n",
       "      <th>Churn</th>\n",
       "    </tr>\n",
       "  </thead>\n",
       "  <tbody>\n",
       "    <tr>\n",
       "      <th>0</th>\n",
       "      <td>Female</td>\n",
       "      <td>0</td>\n",
       "      <td>Yes</td>\n",
       "      <td>No</td>\n",
       "      <td>1</td>\n",
       "      <td>No</td>\n",
       "      <td>No phone service</td>\n",
       "      <td>DSL</td>\n",
       "      <td>No</td>\n",
       "      <td>Yes</td>\n",
       "      <td>No</td>\n",
       "      <td>No</td>\n",
       "      <td>No</td>\n",
       "      <td>No</td>\n",
       "      <td>Month-to-month</td>\n",
       "      <td>Yes</td>\n",
       "      <td>Electronic check</td>\n",
       "      <td>29.85</td>\n",
       "      <td>29.85</td>\n",
       "      <td>0</td>\n",
       "    </tr>\n",
       "    <tr>\n",
       "      <th>1</th>\n",
       "      <td>Male</td>\n",
       "      <td>0</td>\n",
       "      <td>No</td>\n",
       "      <td>No</td>\n",
       "      <td>34</td>\n",
       "      <td>Yes</td>\n",
       "      <td>No</td>\n",
       "      <td>DSL</td>\n",
       "      <td>Yes</td>\n",
       "      <td>No</td>\n",
       "      <td>Yes</td>\n",
       "      <td>No</td>\n",
       "      <td>No</td>\n",
       "      <td>No</td>\n",
       "      <td>One year</td>\n",
       "      <td>No</td>\n",
       "      <td>Mailed check</td>\n",
       "      <td>56.95</td>\n",
       "      <td>1889.50</td>\n",
       "      <td>0</td>\n",
       "    </tr>\n",
       "    <tr>\n",
       "      <th>2</th>\n",
       "      <td>Male</td>\n",
       "      <td>0</td>\n",
       "      <td>No</td>\n",
       "      <td>No</td>\n",
       "      <td>2</td>\n",
       "      <td>Yes</td>\n",
       "      <td>No</td>\n",
       "      <td>DSL</td>\n",
       "      <td>Yes</td>\n",
       "      <td>Yes</td>\n",
       "      <td>No</td>\n",
       "      <td>No</td>\n",
       "      <td>No</td>\n",
       "      <td>No</td>\n",
       "      <td>Month-to-month</td>\n",
       "      <td>Yes</td>\n",
       "      <td>Mailed check</td>\n",
       "      <td>53.85</td>\n",
       "      <td>108.15</td>\n",
       "      <td>1</td>\n",
       "    </tr>\n",
       "  </tbody>\n",
       "</table>\n",
       "</div>"
      ],
      "text/plain": [
       "   gender  SeniorCitizen Partner Dependents  tenure PhoneService  \\\n",
       "0  Female              0     Yes         No       1           No   \n",
       "1    Male              0      No         No      34          Yes   \n",
       "2    Male              0      No         No       2          Yes   \n",
       "\n",
       "      MultipleLines InternetService OnlineSecurity OnlineBackup  \\\n",
       "0  No phone service             DSL             No          Yes   \n",
       "1                No             DSL            Yes           No   \n",
       "2                No             DSL            Yes          Yes   \n",
       "\n",
       "  DeviceProtection TechSupport StreamingTV StreamingMovies        Contract  \\\n",
       "0               No          No          No              No  Month-to-month   \n",
       "1              Yes          No          No              No        One year   \n",
       "2               No          No          No              No  Month-to-month   \n",
       "\n",
       "  PaperlessBilling     PaymentMethod  MonthlyCharges  TotalCharges  Churn  \n",
       "0              Yes  Electronic check           29.85         29.85      0  \n",
       "1               No      Mailed check           56.95       1889.50      0  \n",
       "2              Yes      Mailed check           53.85        108.15      1  "
      ]
     },
     "execution_count": 22,
     "metadata": {},
     "output_type": "execute_result"
    }
   ],
   "source": [
    "df.head(3)"
   ]
  },
  {
   "cell_type": "markdown",
   "id": "7e2699f7-3a5c-4dd0-905a-eeaa6ce3df56",
   "metadata": {},
   "source": [
    "# Creating New Engineered Features\n",
    "\n",
    "Let's create new features"
   ]
  },
  {
   "cell_type": "code",
   "execution_count": 23,
   "id": "223035e6-6b83-4a92-886f-5afa4d76406f",
   "metadata": {},
   "outputs": [],
   "source": [
    "# Average monthly spend (handle division by zero)\n",
    "df['AvgMonthlySpend'] = df['TotalCharges'] / df['tenure']\n",
    "df['AvgMonthlySpend'] = df['AvgMonthlySpend'].replace([np.inf, np.nan], 0)\n",
    "\n",
    "# Number of extra services\n",
    "services = ['OnlineSecurity','OnlineBackup','DeviceProtection','TechSupport','StreamingTV','StreamingMovies']\n",
    "df['NumServices'] = df[services].apply(lambda row: (row=='Yes').sum(), axis=1)\n",
    "\n",
    "# Senior flag (already numeric but make sure it's 0/1)\n",
    "df['IsSenior'] = df['SeniorCitizen'].apply(lambda x: 1 if x==1 else 0)\n",
    "\n",
    "df['TenureGroup'] = pd.cut(\n",
    "    df['tenure'],\n",
    "    bins=[0, 12, 24, 48, 70, float('inf')],\n",
    "    labels=['0-1yr','1-2yr','2-4yr','4-6yr','6+yr'],\n",
    "    include_lowest=True\n",
    ")\n",
    "\n",
    "\n",
    "\n",
    "\n",
    "# Simplify payment types (optional example)\n",
    "df['PaymentTypeSimple'] = df['PaymentMethod'].replace({\n",
    "    'Bank transfer (automatic)': 'Bank',\n",
    "    'Credit card (automatic)': 'Card',\n",
    "    'Electronic check': 'E-check',\n",
    "    'Mailed check': 'Check'\n",
    "})\n"
   ]
  },
  {
   "cell_type": "code",
   "execution_count": 24,
   "id": "8358ced9-5941-4116-b2a6-2fca3968e6ae",
   "metadata": {},
   "outputs": [
    {
     "data": {
      "text/html": [
       "<div>\n",
       "<style scoped>\n",
       "    .dataframe tbody tr th:only-of-type {\n",
       "        vertical-align: middle;\n",
       "    }\n",
       "\n",
       "    .dataframe tbody tr th {\n",
       "        vertical-align: top;\n",
       "    }\n",
       "\n",
       "    .dataframe thead th {\n",
       "        text-align: right;\n",
       "    }\n",
       "</style>\n",
       "<table border=\"1\" class=\"dataframe\">\n",
       "  <thead>\n",
       "    <tr style=\"text-align: right;\">\n",
       "      <th></th>\n",
       "      <th>gender</th>\n",
       "      <th>SeniorCitizen</th>\n",
       "      <th>Partner</th>\n",
       "      <th>Dependents</th>\n",
       "      <th>tenure</th>\n",
       "      <th>PhoneService</th>\n",
       "      <th>MultipleLines</th>\n",
       "      <th>InternetService</th>\n",
       "      <th>OnlineSecurity</th>\n",
       "      <th>OnlineBackup</th>\n",
       "      <th>...</th>\n",
       "      <th>PaperlessBilling</th>\n",
       "      <th>PaymentMethod</th>\n",
       "      <th>MonthlyCharges</th>\n",
       "      <th>TotalCharges</th>\n",
       "      <th>Churn</th>\n",
       "      <th>AvgMonthlySpend</th>\n",
       "      <th>NumServices</th>\n",
       "      <th>IsSenior</th>\n",
       "      <th>TenureGroup</th>\n",
       "      <th>PaymentTypeSimple</th>\n",
       "    </tr>\n",
       "  </thead>\n",
       "  <tbody>\n",
       "    <tr>\n",
       "      <th>0</th>\n",
       "      <td>Female</td>\n",
       "      <td>0</td>\n",
       "      <td>Yes</td>\n",
       "      <td>No</td>\n",
       "      <td>1</td>\n",
       "      <td>No</td>\n",
       "      <td>No phone service</td>\n",
       "      <td>DSL</td>\n",
       "      <td>No</td>\n",
       "      <td>Yes</td>\n",
       "      <td>...</td>\n",
       "      <td>Yes</td>\n",
       "      <td>Electronic check</td>\n",
       "      <td>29.85</td>\n",
       "      <td>29.85</td>\n",
       "      <td>0</td>\n",
       "      <td>29.850000</td>\n",
       "      <td>1</td>\n",
       "      <td>0</td>\n",
       "      <td>0-1yr</td>\n",
       "      <td>E-check</td>\n",
       "    </tr>\n",
       "    <tr>\n",
       "      <th>1</th>\n",
       "      <td>Male</td>\n",
       "      <td>0</td>\n",
       "      <td>No</td>\n",
       "      <td>No</td>\n",
       "      <td>34</td>\n",
       "      <td>Yes</td>\n",
       "      <td>No</td>\n",
       "      <td>DSL</td>\n",
       "      <td>Yes</td>\n",
       "      <td>No</td>\n",
       "      <td>...</td>\n",
       "      <td>No</td>\n",
       "      <td>Mailed check</td>\n",
       "      <td>56.95</td>\n",
       "      <td>1889.50</td>\n",
       "      <td>0</td>\n",
       "      <td>55.573529</td>\n",
       "      <td>2</td>\n",
       "      <td>0</td>\n",
       "      <td>2-4yr</td>\n",
       "      <td>Check</td>\n",
       "    </tr>\n",
       "  </tbody>\n",
       "</table>\n",
       "<p>2 rows × 25 columns</p>\n",
       "</div>"
      ],
      "text/plain": [
       "   gender  SeniorCitizen Partner Dependents  tenure PhoneService  \\\n",
       "0  Female              0     Yes         No       1           No   \n",
       "1    Male              0      No         No      34          Yes   \n",
       "\n",
       "      MultipleLines InternetService OnlineSecurity OnlineBackup  ...  \\\n",
       "0  No phone service             DSL             No          Yes  ...   \n",
       "1                No             DSL            Yes           No  ...   \n",
       "\n",
       "  PaperlessBilling     PaymentMethod MonthlyCharges TotalCharges Churn  \\\n",
       "0              Yes  Electronic check          29.85        29.85     0   \n",
       "1               No      Mailed check          56.95      1889.50     0   \n",
       "\n",
       "  AvgMonthlySpend NumServices  IsSenior  TenureGroup  PaymentTypeSimple  \n",
       "0       29.850000           1         0        0-1yr            E-check  \n",
       "1       55.573529           2         0        2-4yr              Check  \n",
       "\n",
       "[2 rows x 25 columns]"
      ]
     },
     "execution_count": 24,
     "metadata": {},
     "output_type": "execute_result"
    }
   ],
   "source": [
    "df.head(2)"
   ]
  },
  {
   "cell_type": "code",
   "execution_count": 25,
   "id": "0b0f3b18-7059-4a9d-af2a-7e7b1e234443",
   "metadata": {},
   "outputs": [
    {
     "data": {
      "text/plain": [
       "gender               0\n",
       "SeniorCitizen        0\n",
       "Partner              0\n",
       "Dependents           0\n",
       "tenure               0\n",
       "PhoneService         0\n",
       "MultipleLines        0\n",
       "InternetService      0\n",
       "OnlineSecurity       0\n",
       "OnlineBackup         0\n",
       "DeviceProtection     0\n",
       "TechSupport          0\n",
       "StreamingTV          0\n",
       "StreamingMovies      0\n",
       "Contract             0\n",
       "PaperlessBilling     0\n",
       "PaymentMethod        0\n",
       "MonthlyCharges       0\n",
       "TotalCharges         0\n",
       "Churn                0\n",
       "AvgMonthlySpend      0\n",
       "NumServices          0\n",
       "IsSenior             0\n",
       "TenureGroup          0\n",
       "PaymentTypeSimple    0\n",
       "dtype: int64"
      ]
     },
     "execution_count": 25,
     "metadata": {},
     "output_type": "execute_result"
    }
   ],
   "source": [
    "df.isna().sum()"
   ]
  },
  {
   "cell_type": "code",
   "execution_count": 26,
   "id": "378f4bce-5606-4402-841a-a7670c88c23c",
   "metadata": {},
   "outputs": [
    {
     "data": {
      "text/plain": [
       "TenureGroup\n",
       "0-1yr    2186\n",
       "4-6yr    1707\n",
       "2-4yr    1594\n",
       "1-2yr    1024\n",
       "6+yr      532\n",
       "Name: count, dtype: int64"
      ]
     },
     "execution_count": 26,
     "metadata": {},
     "output_type": "execute_result"
    }
   ],
   "source": [
    "df['TenureGroup'].value_counts()"
   ]
  },
  {
   "cell_type": "code",
   "execution_count": 27,
   "id": "cb6a529c-604d-4931-aec8-21acaa46d59b",
   "metadata": {},
   "outputs": [
    {
     "name": "stdout",
     "output_type": "stream",
     "text": [
      "72\n",
      "TenureGroup\n",
      "0-1yr    2186\n",
      "4-6yr    1707\n",
      "2-4yr    1594\n",
      "1-2yr    1024\n",
      "6+yr      532\n",
      "Name: count, dtype: int64\n"
     ]
    }
   ],
   "source": [
    "print(df['tenure'].max())\n",
    "print(df['TenureGroup'].value_counts())"
   ]
  },
  {
   "cell_type": "markdown",
   "id": "655e80d4-495a-4303-b00a-2b5673a61d73",
   "metadata": {},
   "source": [
    "# Encoding + ColumnTransformer\n",
    "# Encode Categorical Features\n",
    "Let's turn all object columns into numbers using OneHotEncoder"
   ]
  },
  {
   "cell_type": "code",
   "execution_count": 28,
   "id": "5d6e6803-4ac0-450b-84f3-87dbb6f5887a",
   "metadata": {},
   "outputs": [],
   "source": [
    "categorical_cols = df.select_dtypes(include='object').drop(columns=['Churn'], errors='ignore').columns.tolist()\n",
    "numeric_cols = df.select_dtypes(include=['int64','float64']).drop(columns=['Churn']).columns.tolist()\n",
    "\n",
    "preprocessor = ColumnTransformer(transformers=[\n",
    "        ('cat', OneHotEncoder(drop='first', sparse_output=False), categorical_cols),\n",
    "        ('num', 'passthrough', numeric_cols)])"
   ]
  },
  {
   "cell_type": "markdown",
   "id": "c1746f0a-4a03-4a1e-a4cd-0a6b98978e12",
   "metadata": {},
   "source": [
    "# Define X and y"
   ]
  },
  {
   "cell_type": "code",
   "execution_count": 29,
   "id": "1181482b-302b-4797-9158-61d0b53080d6",
   "metadata": {},
   "outputs": [],
   "source": [
    "X = df.drop('Churn', axis=1)\n",
    "y = df['Churn']"
   ]
  },
  {
   "cell_type": "markdown",
   "id": "75a54d5f-1896-4f85-9628-29621a3a35bc",
   "metadata": {},
   "source": [
    "##  Handle Class Imbalance\n",
    "\n",
    "Let's check if Churn is imbalanced  and handle the imbalance Using SMOTE after splitting"
   ]
  },
  {
   "cell_type": "code",
   "execution_count": 30,
   "id": "0fe7339c-3cee-4cc3-b290-9a404b59c050",
   "metadata": {},
   "outputs": [
    {
     "name": "stdout",
     "output_type": "stream",
     "text": [
      "Churn\n",
      "0    5174\n",
      "1    1869\n",
      "Name: count, dtype: int64\n",
      "Churn\n",
      "0    73.463013\n",
      "1    26.536987\n",
      "Name: proportion, dtype: float64\n"
     ]
    }
   ],
   "source": [
    "# Count of each class\n",
    "print(df['Churn'].value_counts())\n",
    "\n",
    "# Percentage of each class\n",
    "print(df['Churn'].value_counts(normalize=True) * 100)"
   ]
  },
  {
   "cell_type": "markdown",
   "id": "3220097d-0b0a-4505-9b3d-0a8d8872c513",
   "metadata": {},
   "source": [
    "- The majority class is customers who **did not churn (No)** : about **73.5%** of the dataset  \n",
    "- The minority class is customers who **did churn (Yes)** : about **26.5%** of the dataset\n",
    "- This indicates a **significant class imbalance** and  training models directly on this data could bias them toward predicting `No`\n",
    "\n",
    "---\n",
    "\n",
    "###  Handling the Imbalance\n",
    "\n",
    "- To address this imbalance, we will use **SMOTE (Synthetic Minority Oversampling Technique)** \n",
    "- **SMOTE** will generate **synthetic samples of the minority class (Yes)** **in the training set only**\n",
    "- This will help our models **learn patterns from both classes more equally** and improve performance on minority class predictions\n"
   ]
  },
  {
   "cell_type": "markdown",
   "id": "0cfc5a8d-628d-4324-94e2-70bb2773bf59",
   "metadata": {},
   "source": [
    "# Train-Test Split\n",
    "Let's split first to prevent data leakage"
   ]
  },
  {
   "cell_type": "code",
   "execution_count": 31,
   "id": "ed3db41f-cb4a-41c7-927b-98fa27499b54",
   "metadata": {},
   "outputs": [],
   "source": [
    "X_train, X_test, y_train, y_test = train_test_split(X, y, test_size=0.2, stratify=y, random_state=42)\n"
   ]
  },
  {
   "cell_type": "markdown",
   "id": "be9d09cc-68a0-4a3e-b941-cc6ab0e09d95",
   "metadata": {},
   "source": [
    "## Modeling Pipelines (SMOTE + Scaling + Model)\n",
    "- We use imblearn.pipeline.Pipeline so SMOTE fits only on train folds and after encoding"
   ]
  },
  {
   "cell_type": "markdown",
   "id": "0fbafe70-51fc-4cea-83fa-f6d0d7d4d122",
   "metadata": {},
   "source": [
    "# **MODELING**\n"
   ]
  },
  {
   "cell_type": "markdown",
   "id": "5304f428-8276-46e1-8ecd-424e8cdff5f1",
   "metadata": {},
   "source": [
    "##  Modeling Pipeline\n",
    "\n",
    "We will train and evaluate multiple classification models using the cleaned and engineered features \n",
    "\n",
    "### Steps\n",
    "\n",
    "- Add **StandardScaler** for numeric data to normalize values  \n",
    "- Build and evaluate different classification models  \n",
    "- Use **GridSearchCV** or **RandomizedSearchCV** for hyperparameter tuning  \n",
    "\n",
    "---\n",
    "\n",
    "###  Models \n",
    "\n",
    "| Model                | Purpose                               | Search Method         |\n",
    "|----------------------|-----------------------------------------|--------------------------|\n",
    "| **Logistic Regression**  | Baseline, simple & interpretable         | GridSearchCV             |\n",
    "| **Decision Tree**         | Captures non-linear patterns              | GridSearchCV             |\n",
    "| **Random Forest**         | Ensemble model (reduces variance)         | RandomizedSearchCV       |\n",
    "| **Gradient Boosting**     | Boosting decision trees                    | GridSearchCV              |\n",
    "| **XGBoost**                | High performance boosting                      | RandomizedSearchCV       |\n",
    "\n"
   ]
  },
  {
   "cell_type": "markdown",
   "id": "99ed4a9a-d17f-4b76-8d58-c8a527d78081",
   "metadata": {},
   "source": [
    "##  Feature Scaling in the  Models  \n",
    "\n",
    "In our modeling we  will **apply scaling only in Logistic Regression**  and **exclude scaling in all tree-based models** to keep our pipelines **clean, efficient and accurate**   \n",
    " \n",
    "\n",
    "###  Scaler **ON** :  Logistic Regression  \n",
    "- Logistic Regression relies on **gradient-based optimization**  \n",
    "- We apply **`StandardScaler`** to ensure all features contribute equally\n",
    "\n",
    "### Scaler **OFF** : Tree-Based Models  \n",
    "(Applies to: Decision Tree, Random Forest, Gradient Boosting, XGBoost)  \n",
    "- These models are **scale-invariant** since they split data by thresholds\n",
    "- Scaling has **no effect** on their performance, so we skip it\n",
    "\n"
   ]
  },
  {
   "cell_type": "code",
   "execution_count": null,
   "id": "73e4f65d-163b-4c10-9ef3-478f41a3b86f",
   "metadata": {},
   "outputs": [],
   "source": []
  },
  {
   "cell_type": "code",
   "execution_count": null,
   "id": "c17278ca-e87c-4c32-933b-affcecf0121e",
   "metadata": {},
   "outputs": [],
   "source": []
  }
 ],
 "metadata": {
  "kernelspec": {
   "display_name": "Python 3",
   "language": "python",
   "name": "python3"
  },
  "language_info": {
   "codemirror_mode": {
    "name": "ipython",
    "version": 3
   },
   "file_extension": ".py",
   "mimetype": "text/x-python",
   "name": "python",
   "nbconvert_exporter": "python",
   "pygments_lexer": "ipython3",
   "version": "3.8.5"
  }
 },
 "nbformat": 4,
 "nbformat_minor": 5
}
